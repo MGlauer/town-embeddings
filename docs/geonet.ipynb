{
 "cells": [
  {
   "cell_type": "code",
   "id": "initial_id",
   "metadata": {
    "collapsed": true,
    "ExecuteTime": {
     "end_time": "2025-08-19T11:31:39.841590Z",
     "start_time": "2025-08-19T11:31:39.835891Z"
    }
   },
   "source": [
    "import torch\n",
    "from scipy.cluster.hierarchy import num_obs_linkage\n",
    "\n",
    "n_dim = 2\n",
    "n_points = 10\n",
    "n_labels = 5\n",
    "\n",
    "points = torch.tensor(range(n_points), dtype=torch.int)\n",
    "labels = torch.rand((n_points, n_labels)) > 0.4\n"
   ],
   "outputs": [],
   "execution_count": 21
  },
  {
   "metadata": {},
   "cell_type": "markdown",
   "source": "Our example model is very simplistic. The datapoints are just integers from 0 to `n_points` and randomly assigned `labels`. As a first step, we have to embed our datapoints into an `n_dim`-dimensional space. To this end, we implement a simple embedding model that assigns each integer with an `n_dim`-dimensional point. For more complex applications, this embedding model has to be tailored towards the specific input data.",
   "id": "23424f47fe4ff6a5"
  },
  {
   "metadata": {
    "ExecuteTime": {
     "end_time": "2025-08-19T11:31:39.911307Z",
     "start_time": "2025-08-19T11:31:39.906408Z"
    }
   },
   "cell_type": "code",
   "source": [
    "class SimpleEmbedding(torch.nn.Module):\n",
    "    def __init__(self, n_points, n_dim):\n",
    "        super(SimpleEmbedding, self).__init__()\n",
    "        self.out_dim = n_dim\n",
    "        self.points = torch.rand((n_points, n_dim))*6-3\n",
    "\n",
    "    def forward(self, idx):\n",
    "        return self.points[idx]\n",
    "\n",
    "embedding_model = SimpleEmbedding(n_points, n_dim)\n",
    "embeddings = embedding_model(points)"
   ],
   "id": "333701551e8a0e8d",
   "outputs": [],
   "execution_count": 22
  },
  {
   "metadata": {},
   "cell_type": "markdown",
   "source": "For `n_dim == 2`, we can plot the spacial positions of these points:",
   "id": "e0e7d50b21c4ce2"
  },
  {
   "metadata": {
    "ExecuteTime": {
     "end_time": "2025-08-19T11:31:40.081518Z",
     "start_time": "2025-08-19T11:31:40.039378Z"
    }
   },
   "cell_type": "code",
   "source": [
    "from potemkin.io.render import draw_2d\n",
    "draw_2d(embeddings)"
   ],
   "id": "53e85e5b4cc9a24a",
   "outputs": [
    {
     "data": {
      "text/plain": [
       "<Figure size 640x480 with 1 Axes>"
      ],
      "image/png": "[encoded data removed]"
     },
     "execution_count": 23,
     "metadata": {},
     "output_type": "execute_result"
    },
    {
     "data": {
      "text/plain": [
       "<Figure size 640x480 with 0 Axes>"
      ]
     },
     "metadata": {},
     "output_type": "display_data"
    }
   ],
   "execution_count": 23
  },
  {
   "metadata": {},
   "cell_type": "markdown",
   "source": "Next, we need to build the town model based on the embedding model. For presentation purposes, a unique color is assigned to each class.",
   "id": "eb66dd2619352e68"
  },
  {
   "metadata": {
    "ExecuteTime": {
     "end_time": "2025-08-19T11:31:40.169126Z",
     "start_time": "2025-08-19T11:31:40.100336Z"
    }
   },
   "cell_type": "code",
   "source": [
    "from potemkin.models.town_model import TownModel\n",
    "from matplotlib import colormaps\n",
    "model = TownModel(embedding_model, n_labels)\n",
    "cmap = colormaps[\"Set1\"]\n",
    "colors = list(cmap.colors)[:n_labels]\n",
    "\n",
    "draw_2d(embeddings, model, town_colors=colors)"
   ],
   "id": "e1fe11fb9c32e2b1",
   "outputs": [
    {
     "data": {
      "text/plain": [
       "<Figure size 640x480 with 1 Axes>"
      ],
      "image/png": "[encoded data removed]"
     },
     "execution_count": 24,
     "metadata": {},
     "output_type": "execute_result"
    },
    {
     "data": {
      "text/plain": [
       "<Figure size 640x480 with 0 Axes>"
      ]
     },
     "metadata": {},
     "output_type": "display_data"
    }
   ],
   "execution_count": 24
  },
  {
   "metadata": {},
   "cell_type": "markdown",
   "source": "Passing the datapoints to the model calculates the containment for each frame, window and town, as well as inner and outer distances for frames and windows.",
   "id": "59d60a05967aa887"
  },
  {
   "metadata": {
    "ExecuteTime": {
     "end_time": "2025-08-19T11:31:40.183391Z",
     "start_time": "2025-08-19T11:31:40.180592Z"
    }
   },
   "cell_type": "code",
   "source": [
    "model_out = model(points)\n",
    "model_out.keys()"
   ],
   "id": "b956a7e600ed7aa7",
   "outputs": [
    {
     "data": {
      "text/plain": [
       "dict_keys(['embeddings', 'crisp_frame_containment', 'crisp_window_containment', 'crisp_house_containment', 'crisp_containment', 'inner_frame_distance', 'outer_frame_distance', 'inner_window_distances', 'outer_window_distances'])"
      ]
     },
     "execution_count": 25,
     "metadata": {},
     "output_type": "execute_result"
    }
   ],
   "execution_count": 25
  },
  {
   "metadata": {},
   "cell_type": "markdown",
   "source": "These values are used to calculate the loss.",
   "id": "3244091338542f6b"
  },
  {
   "metadata": {
    "ExecuteTime": {
     "end_time": "2025-08-19T11:31:40.294206Z",
     "start_time": "2025-08-19T11:31:40.260708Z"
    }
   },
   "cell_type": "code",
   "source": [
    "from potemkin.loss.town_loss import DistanceLoss\n",
    "\n",
    "loss_fn = DistanceLoss()\n",
    "\n",
    "loss = loss_fn(model_out, labels)\n",
    "\n",
    "loss"
   ],
   "id": "95b81f0c1969dac4",
   "outputs": [
    {
     "data": {
      "text/plain": [
       "tensor(0.9351, grad_fn=<MeanBackward0>)"
      ]
     },
     "execution_count": 26,
     "metadata": {},
     "output_type": "execute_result"
    }
   ],
   "execution_count": 26
  },
  {
   "metadata": {
    "ExecuteTime": {
     "end_time": "2025-08-19T11:31:40.337416Z",
     "start_time": "2025-08-19T11:31:40.333080Z"
    }
   },
   "cell_type": "code",
   "source": [
    "containment = model_out['crisp_containment']\n",
    "\n",
    "accuracy = (containment==labels).float().mean(dim=-1)\n",
    "\n",
    "accuracy"
   ],
   "id": "bdebae584a11c1d5",
   "outputs": [
    {
     "data": {
      "text/plain": [
       "tensor([0.8000, 0.4000, 0.6000, 1.0000, 0.2000, 0.4000, 0.8000, 0.6000, 0.4000,\n",
       "        0.4000])"
      ]
     },
     "execution_count": 27,
     "metadata": {},
     "output_type": "execute_result"
    }
   ],
   "execution_count": 27
  },
  {
   "metadata": {
    "ExecuteTime": {
     "end_time": "2025-08-19T11:31:40.420333Z",
     "start_time": "2025-08-19T11:31:40.418912Z"
    }
   },
   "cell_type": "code",
   "source": "",
   "id": "a62a0c7f9d3ca6a1",
   "outputs": [],
   "execution_count": null
  },
  {
   "metadata": {
    "ExecuteTime": {
     "end_time": "2025-08-19T11:31:40.559222Z",
     "start_time": "2025-08-19T11:31:40.475937Z"
    }
   },
   "cell_type": "code",
   "source": [
    "point_colors = torch.stack((1-accuracy, accuracy, 0*accuracy)).T.tolist()\n",
    "\n",
    "draw_2d(embeddings, model, point_colors=point_colors, town_colors=colors)"
   ],
   "id": "95cd6d52a186903e",
   "outputs": [
    {
     "data": {
      "text/plain": [
       "<Figure size 640x480 with 1 Axes>"
      ],
      "image/png": "[encoded data removed]"
     },
     "execution_count": 28,
     "metadata": {},
     "output_type": "execute_result"
    },
    {
     "data": {
      "text/plain": [
       "<Figure size 640x480 with 0 Axes>"
      ]
     },
     "metadata": {},
     "output_type": "display_data"
    }
   ],
   "execution_count": 28
  }
 ],
 "metadata": {
  "kernelspec": {
   "display_name": "Python 3",
   "language": "python",
   "name": "python3"
  },
  "language_info": {
   "codemirror_mode": {
    "name": "ipython",
    "version": 2
   },
   "file_extension": ".py",
   "mimetype": "text/x-python",
   "name": "python",
   "nbconvert_exporter": "python",
   "pygments_lexer": "ipython2",
   "version": "2.7.6"
  }
 },
 "nbformat": 4,
 "nbformat_minor": 5
}
