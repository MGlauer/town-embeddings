{
 "cells": [
  {
   "cell_type": "code",
   "execution_count": 104,
   "id": "9b3388fc",
   "metadata": {},
   "outputs": [],
   "source": [
    "import torch"
   ]
  },
  {
   "cell_type": "code",
   "execution_count": 105,
   "id": "2a7673e0",
   "metadata": {},
   "outputs": [],
   "source": [
    "directions = torch.tensor([[[[-0.8056,  1.1740],\n",
    "                       [ 2.7763,  2.2013]],\n",
    "             \n",
    "                      [[-1.8184,  0.1110],\n",
    "                       [ 2.8901,  0.7230]],\n",
    "             \n",
    "                      [[ 1.7179,  0.5412],\n",
    "                       [-1.7282,  1.3373]],\n",
    "             \n",
    "                      [[-1.5332, -0.7333],\n",
    "                       [-1.0264,  1.1562]],\n",
    "             \n",
    "                      [[ 2.6247,  0.2022],\n",
    "                       [-0.3938, -1.1416]]],\n",
    "             \n",
    "             \n",
    "                     [[[ 0.9660,  1.8263],\n",
    "                       [ 2.1540,  0.9992]],\n",
    "             \n",
    "                      [[ 2.0593, -2.2214],\n",
    "                       [-0.1497, -0.3297]],\n",
    "             \n",
    "                      [[ 1.1611, -2.4262],\n",
    "                       [-1.4628, -0.5099]],\n",
    "             \n",
    "                      [[ 1.2183, -1.3895],\n",
    "                       [ 2.8582, -1.1032]],\n",
    "             \n",
    "                      [[ 2.2920, -0.3779],\n",
    "                       [ 2.7483, -2.1189]]],\n",
    "             \n",
    "             \n",
    "                     [[[-2.6221, -2.2881],\n",
    "                       [-1.2289, -1.1166]],\n",
    "             \n",
    "                      [[ 2.5628,  0.6343],\n",
    "                       [ 1.3918,  0.8203]],\n",
    "             \n",
    "                      [[ 0.0689, -1.6668],\n",
    "                       [-0.4017, -2.7980]],\n",
    "             \n",
    "                      [[ 0.3584,  1.4854],\n",
    "                       [ 2.3535, -1.5010]],\n",
    "             \n",
    "                      [[ 2.6470,  1.3458],\n",
    "                       [ 2.5052, -0.3673]]],\n",
    "             \n",
    "             \n",
    "                     [[[ 0.0271, -0.2185],\n",
    "                       [ 0.0437, -2.7863]],\n",
    "             \n",
    "                      [[-0.2177, -2.3016],\n",
    "                       [-1.9235,  1.6838]],\n",
    "             \n",
    "                      [[ 2.0386, -1.9669],\n",
    "                       [ 0.6567,  1.2185]],\n",
    "             \n",
    "                      [[ 1.0534, -2.0769],\n",
    "                       [ 1.3134, -1.5139]],\n",
    "             \n",
    "                      [[ 1.2944, -0.3118],\n",
    "                       [ 2.7879, -2.0847]]]])\n",
    "points = torch.tensor([[-0.2952, -2.0624],\n",
    "                 [ 2.2338,  1.0902],\n",
    "                 [-0.1883,  2.7804]])\n",
    "p = 2"
   ]
  },
  {
   "cell_type": "code",
   "execution_count": 106,
   "id": "6cfe4c10",
   "metadata": {},
   "outputs": [
    {
     "data": {
      "text/plain": [
       "torch.Size([4, 5, 2, 2])"
      ]
     },
     "execution_count": 106,
     "metadata": {},
     "output_type": "execute_result"
    }
   ],
   "source": [
    "directions.shape"
   ]
  },
  {
   "cell_type": "code",
   "execution_count": 107,
   "id": "e60e3511",
   "metadata": {},
   "outputs": [
    {
     "data": {
      "text/plain": [
       "torch.Size([3, 2])"
      ]
     },
     "execution_count": 107,
     "metadata": {},
     "output_type": "execute_result"
    }
   ],
   "source": [
    "points.shape"
   ]
  },
  {
   "cell_type": "code",
   "execution_count": 108,
   "id": "5c4e0a79",
   "metadata": {},
   "outputs": [
    {
     "data": {
      "text/plain": [
       "tensor([[[[1.4238],\n",
       "          [3.5431]],\n",
       "\n",
       "         [[1.8218],\n",
       "          [2.9792]],\n",
       "\n",
       "         [[1.8011],\n",
       "          [2.1852]],\n",
       "\n",
       "         [[1.6995],\n",
       "          [1.5461]],\n",
       "\n",
       "         [[2.6325],\n",
       "          [1.2076]]],\n",
       "\n",
       "\n",
       "        [[[2.0660],\n",
       "          [2.3745]],\n",
       "\n",
       "         [[3.0291],\n",
       "          [0.3621]],\n",
       "\n",
       "         [[2.6897],\n",
       "          [1.5491]],\n",
       "\n",
       "         [[1.8480],\n",
       "          [3.0637]],\n",
       "\n",
       "         [[2.3229],\n",
       "          [3.4703]]],\n",
       "\n",
       "\n",
       "        [[[3.4801],\n",
       "          [1.6604]],\n",
       "\n",
       "         [[2.6401],\n",
       "          [1.6155]],\n",
       "\n",
       "         [[1.6682],\n",
       "          [2.8267]],\n",
       "\n",
       "         [[1.5280],\n",
       "          [2.7914]],\n",
       "\n",
       "         [[2.9695],\n",
       "          [2.5320]]],\n",
       "\n",
       "\n",
       "        [[[0.2202],\n",
       "          [2.7866]],\n",
       "\n",
       "         [[2.3119],\n",
       "          [2.5564]],\n",
       "\n",
       "         [[2.8328],\n",
       "          [1.3842]],\n",
       "\n",
       "         [[2.3288],\n",
       "          [2.0042]],\n",
       "\n",
       "         [[1.3314],\n",
       "          [3.4811]]]])"
      ]
     },
     "execution_count": 108,
     "metadata": {},
     "output_type": "execute_result"
    }
   ],
   "source": [
    "# TODO: margin\n",
    "# line = a + n*t\n",
    "# dist(p, a + n*t) = || (a-p) - dot((a-p), n) * n ||\n",
    "# with a = (0, ..., 0)\n",
    "#      dist(p, n*t) = || -p - dot(-p, n) * n ||\n",
    "norms = torch.linalg.vector_norm(directions, ord=p, dim=-1).unsqueeze(-1)\n",
    "norms"
   ]
  },
  {
   "cell_type": "code",
   "execution_count": 109,
   "id": "8d05c8a4",
   "metadata": {},
   "outputs": [
    {
     "data": {
      "text/plain": [
       "torch.Size([4, 5, 2, 2])"
      ]
     },
     "execution_count": 109,
     "metadata": {},
     "output_type": "execute_result"
    }
   ],
   "source": [
    "unit_directions = directions / norms\n",
    "unit_directions.shape"
   ]
  },
  {
   "cell_type": "code",
   "execution_count": 110,
   "id": "76de1bc7",
   "metadata": {},
   "outputs": [
    {
     "data": {
      "text/plain": [
       "torch.Size([4, 5, 3, 2, 1])"
      ]
     },
     "execution_count": 110,
     "metadata": {},
     "output_type": "execute_result"
    }
   ],
   "source": [
    "dot_products = (-points @ unit_directions.transpose(-2, -1)).unsqueeze(-1)\n",
    "dot_products.shape"
   ]
  },
  {
   "cell_type": "code",
   "execution_count": 111,
   "id": "0fb3937d",
   "metadata": {},
   "outputs": [
    {
     "data": {
      "text/plain": [
       "torch.Size([4, 5, 3, 2, 2])"
      ]
     },
     "execution_count": 111,
     "metadata": {},
     "output_type": "execute_result"
    }
   ],
   "source": [
    "dot_times_unit = dot_products * unit_directions.unsqueeze(-3)\n",
    "dot_times_unit.shape"
   ]
  },
  {
   "cell_type": "code",
   "execution_count": 112,
   "id": "f681055d",
   "metadata": {},
   "outputs": [
    {
     "data": {
      "text/plain": [
       "torch.Size([4, 5, 3, 2, 2])"
      ]
     },
     "execution_count": 112,
     "metadata": {},
     "output_type": "execute_result"
    }
   ],
   "source": [
    "almost = -points.unsqueeze(1) - dot_times_unit\n",
    "almost.shape"
   ]
  },
  {
   "cell_type": "code",
   "execution_count": 113,
   "id": "cd2b00a4",
   "metadata": {},
   "outputs": [
    {
     "data": {
      "text/plain": [
       "torch.Size([4, 5, 3, 2])"
      ]
     },
     "execution_count": 113,
     "metadata": {},
     "output_type": "execute_result"
    }
   ],
   "source": [
    "result = torch.linalg.vector_norm(almost, ord=p, dim=-1)\n",
    "result.shape"
   ]
  },
  {
   "cell_type": "code",
   "execution_count": 114,
   "id": "6f2b91f2",
   "metadata": {},
   "outputs": [
    {
     "data": {
      "text/plain": [
       "torch.Size([4, 5, 3])"
      ]
     },
     "execution_count": 114,
     "metadata": {},
     "output_type": "execute_result"
    }
   ],
   "source": [
    "returns = torch.min(result, dim=-1)[0]\n",
    "returns.shape"
   ]
  }
 ],
 "metadata": {
  "kernelspec": {
   "display_name": ".venv",
   "language": "python",
   "name": "python3"
  },
  "language_info": {
   "codemirror_mode": {
    "name": "ipython",
    "version": 3
   },
   "file_extension": ".py",
   "mimetype": "text/x-python",
   "name": "python",
   "nbconvert_exporter": "python",
   "pygments_lexer": "ipython3",
   "version": "3.12.10"
  }
 },
 "nbformat": 4,
 "nbformat_minor": 5
}
